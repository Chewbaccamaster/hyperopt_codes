{
  "nbformat": 4,
  "nbformat_minor": 0,
  "metadata": {
    "colab": {
      "name": "hyperopt_codes.ipynb",
      "version": "0.3.2",
      "provenance": [],
      "collapsed_sections": []
    },
    "kernelspec": {
      "display_name": "Python 3",
      "language": "python",
      "name": "python3"
    },
    "accelerator": "GPU"
  },
  "cells": [
    {
      "cell_type": "markdown",
      "metadata": {
        "id": "view-in-github",
        "colab_type": "text"
      },
      "source": [
        "[View in Colaboratory](https://colab.research.google.com/github/Chewbaccamaster/hyperopt_codes/blob/master/hyperopt_codes.ipynb)"
      ]
    },
    {
      "metadata": {
        "id": "Okz3VTzXW7wn",
        "colab_type": "code",
        "colab": {
          "base_uri": "https://localhost:8080/",
          "height": 138
        },
        "outputId": "a535e22b-77a7-4f92-c82d-f0a403dd6855"
      },
      "cell_type": "code",
      "source": [
        "!apt-get install -y -qq software-properties-common python-software-properties module-init-tools\n",
        "!add-apt-repository -y ppa:alessandro-strada/ppa 2>&1 > /dev/null\n",
        "!apt-get update -qq 2>&1 > /dev/null\n",
        "!apt-get -y install -qq google-drive-ocamlfuse fuse\n",
        "from google.colab import auth\n",
        "auth.authenticate_user()\n",
        "from oauth2client.client import GoogleCredentials\n",
        "creds = GoogleCredentials.get_application_default()\n",
        "import getpass\n",
        "!google-drive-ocamlfuse -headless -id={creds.client_id} -secret={creds.client_secret} < /dev/null 2>&1 | grep URL\n",
        "vcode = getpass.getpass()\n",
        "!echo {vcode} | google-drive-ocamlfuse -headless -id={creds.client_id} -secret={creds.client_secret}"
      ],
      "execution_count": 0,
      "outputs": [
        {
          "output_type": "stream",
          "text": [
            "gpg: keybox '/tmp/tmpdsqmpe95/pubring.gpg' created\n",
            "gpg: /tmp/tmpdsqmpe95/trustdb.gpg: trustdb created\n",
            "gpg: key AD5F235DF639B041: public key \"Launchpad PPA for Alessandro Strada\" imported\n",
            "gpg: Total number processed: 1\n",
            "gpg:               imported: 1\n",
            "Warning: apt-key output should not be parsed (stdout is not a terminal)\n",
            "··········\n"
          ],
          "name": "stdout"
        }
      ]
    },
    {
      "metadata": {
        "id": "vtwjwqJgX1r8",
        "colab_type": "code",
        "colab": {}
      },
      "cell_type": "code",
      "source": [
        "!mkdir -p drive\n",
        "!google-drive-ocamlfuse drive"
      ],
      "execution_count": 0,
      "outputs": []
    },
    {
      "metadata": {
        "id": "tLBpsqUwW6GP",
        "colab_type": "code",
        "colab": {}
      },
      "cell_type": "code",
      "source": [
        "import os \n",
        "import sys\n",
        "import pandas as pd\n",
        "import numpy as np\n",
        "\n",
        "from sklearn import model_selection\n",
        "from __future__ import absolute_import\n",
        "os.chdir(\"/content/drive/Hamming\")\n",
        "sys.path.append(\"Hamming\")"
      ],
      "execution_count": 0,
      "outputs": []
    },
    {
      "metadata": {
        "id": "WuFjNpRmX-mM",
        "colab_type": "code",
        "colab": {
          "base_uri": "https://localhost:8080/",
          "height": 208
        },
        "outputId": "b1c17206-f554-45e7-f956-60eda17d6eb6"
      },
      "cell_type": "code",
      "source": [
        "!pip install hyperopt\n",
        "!pip install networkx==1.11\n"
      ],
      "execution_count": 0,
      "outputs": [
        {
          "output_type": "stream",
          "text": [
            "Requirement already satisfied: hyperopt in /usr/local/lib/python3.6/dist-packages (0.1)\r\n",
            "Requirement already satisfied: future in /usr/local/lib/python3.6/dist-packages (from hyperopt) (0.16.0)\r\n",
            "Requirement already satisfied: pymongo in /usr/local/lib/python3.6/dist-packages (from hyperopt) (3.6.1)\r\n",
            "Requirement already satisfied: six in /usr/local/lib/python3.6/dist-packages (from hyperopt) (1.11.0)\r\n",
            "Requirement already satisfied: numpy in /usr/local/lib/python3.6/dist-packages (from hyperopt) (1.14.3)\r\n",
            "Requirement already satisfied: nose in /usr/local/lib/python3.6/dist-packages (from hyperopt) (1.3.7)\r\n",
            "Requirement already satisfied: networkx in /usr/local/lib/python3.6/dist-packages (from hyperopt) (1.11)\r\n",
            "Requirement already satisfied: scipy in /usr/local/lib/python3.6/dist-packages (from hyperopt) (0.19.1)\r\n",
            "Requirement already satisfied: decorator>=3.4.0 in /usr/local/lib/python3.6/dist-packages (from networkx->hyperopt) (4.3.0)\n",
            "Requirement already satisfied: networkx==1.11 in /usr/local/lib/python3.6/dist-packages (1.11)\n",
            "Requirement already satisfied: decorator>=3.4.0 in /usr/local/lib/python3.6/dist-packages (from networkx==1.11) (4.3.0)\n"
          ],
          "name": "stdout"
        }
      ]
    },
    {
      "metadata": {
        "id": "ZRwu0DFrW6Gf",
        "colab_type": "code",
        "colab": {}
      },
      "cell_type": "code",
      "source": [
        "TRAIN_PATH = './dataset_files/hamming_small.txt'  # \"/content/drive/Hamming/dataset_files/hamming.txt\"\n",
        "\n",
        "COLUMN_NAMES = ['plainword', 'codeword', \n",
        "                'id_error', 'bin_error', 'defective_codeword']\n",
        "def load_data():\n",
        "    return pd.read_csv(TRAIN_PATH, sep=';', names=COLUMN_NAMES)"
      ],
      "execution_count": 0,
      "outputs": []
    },
    {
      "metadata": {
        "id": "WWEgVlIiW6Gl",
        "colab_type": "code",
        "colab": {}
      },
      "cell_type": "code",
      "source": [
        "def make_features():\n",
        "#     data['dec_defective_codeword'] = data['defective_codeword'][:].apply(lambda x: int(x, 2))\n",
        "\n",
        "    for j in range(len(data['codeword'][0])):\n",
        "        data['cod_' + str(j)] = data['codeword'][:].apply(lambda x: int(x[j]))\n",
        "\n",
        "    for j in range(len(data['defective_codeword'][0])):\n",
        "        data['def_' + str(j)] = data['defective_codeword'][:].apply(lambda x: int(x[j]))\n",
        "\n",
        "#     for j in range(len(data['bin_error'][0])):\n",
        "#         data['mask_' + str(j)] = data['bin_error'][:].apply(lambda x: int(x[j]))\n",
        "        \n",
        "    for j in range(len(data['plainword'][0])):\n",
        "        data['pln_' + str(j)] = data['plainword'][:].apply(lambda x: int(x[j]))\n",
        "#     return data"
      ],
      "execution_count": 0,
      "outputs": []
    },
    {
      "metadata": {
        "id": "i_6JVcfXW6Gq",
        "colab_type": "code",
        "colab": {}
      },
      "cell_type": "code",
      "source": [
        "def split_data(test_size): \n",
        "  train_data, test_data, train_labels, test_labels = \\\n",
        "    model_selection.train_test_split(data.loc[:, 'def_0':'def_30'], \n",
        "      data.loc[:, 'cod_0':'cod_30'], # 'mask_0':'pln_25' \n",
        "      test_size = test_size) \n",
        "  return np.array(train_data), np.array(test_data), np.array(train_labels), np.array(test_labels)"
      ],
      "execution_count": 0,
      "outputs": []
    },
    {
      "metadata": {
        "id": "iVeFMadmW6Gw",
        "colab_type": "code",
        "colab": {
          "base_uri": "https://localhost:8080/",
          "height": 86
        },
        "outputId": "58f8520a-f1f6-4ae0-c3ca-bc0d27180548"
      },
      "cell_type": "code",
      "source": [
        "%%time\n",
        "data = load_data()\n",
        "print(data.shape)\n",
        "make_features()\n",
        "print(data.shape)\n",
        "train_data, test_data, train_labels, test_labels = split_data(test_size=0.3)"
      ],
      "execution_count": 0,
      "outputs": [
        {
          "output_type": "stream",
          "text": [
            "(40960, 5)\n",
            "(40960, 93)\n",
            "CPU times: user 2.31 s, sys: 68 ms, total: 2.38 s\n",
            "Wall time: 2.77 s\n"
          ],
          "name": "stdout"
        }
      ]
    },
    {
      "metadata": {
        "id": "fKFGqPt7W6G4",
        "colab_type": "code",
        "colab": {}
      },
      "cell_type": "code",
      "source": [
        "def probs_to_labels(predicted_probs):\n",
        "    return [1 if x > 0.5 else 0 for x in predicted_probs]\n",
        "def count_errors(y, y_pred):\n",
        "  count = 0\n",
        "  for i in range (0,31):\n",
        "    labelBit = y[i]\n",
        "    resultBit = y_pred[i]\n",
        "    if labelBit != resultBit:\n",
        "      count += 1\n",
        "  return count"
      ],
      "execution_count": 0,
      "outputs": []
    },
    {
      "metadata": {
        "id": "tygf5wTWW6G9",
        "colab_type": "code",
        "colab": {}
      },
      "cell_type": "code",
      "source": [
        "# errorStats = {'0': 0}\n",
        "# for i in range(0, y_pred.shape[0]):\n",
        "#   resultArray = probs_to_labels(y_pred[i])\n",
        "#   errorNum = count_errors(test_labels[i], resultArray)\n",
        "#   if errorStats.get(str(errorNum)) == None:\n",
        "#     errorStats[str(errorNum)] = 0\n",
        "#   errorStats[str(errorNum)] += 1\n",
        "# print(errorStats)\n",
        "def binary_accuracy(y, y_pred):\n",
        "    return sum(int(np.array_equal(a, probs_to_labels(b))) for (a,b) in zip(y, y_pred)) / y.shape[0]\n"
      ],
      "execution_count": 0,
      "outputs": []
    },
    {
      "metadata": {
        "id": "p9R4dTnYW6HD",
        "colab_type": "code",
        "colab": {}
      },
      "cell_type": "code",
      "source": [
        "from hyperopt import fmin, tpe, hp, STATUS_OK, Trials\n",
        "from sklearn.metrics import roc_auc_score\n",
        "import sys\n",
        "\n",
        "X = train_data\n",
        "y = train_labels\n",
        "X_val = test_data\n",
        "y_val = test_labels\n",
        "activations = ['relu', 'tanh', 'softmax', 'elu', 'softplus', 'linear']\n",
        "space = {'choice': hp.choice('num_layers',\n",
        "                    [ {'layers':'three', },\n",
        "                    {'layers':'four',\n",
        "                    'units4': hp.choice('units4', [128, 256, 512, 1024]), \n",
        "                    'activation4': hp.choice('activation4', activations),\n",
        "                    'dropout4': 1}#hp.choice('dropout4', [.75, 1])}\n",
        "                    ]),\n",
        "\n",
        "            'units1': hp.choice('units1', [128, 256, 512, 1024]),\n",
        "            'units2': hp.choice('units2', [128, 256, 512, 1024]),\n",
        "            'units3': hp.choice('units3', [128, 256, 512, 1024]), \n",
        "\n",
        "            'dropout1': 1,#hp.choice('dropout1', [.75, 1]),\n",
        "            'dropout2': 1,#hp.choice('dropout2', [.75, 1]),\n",
        "            'dropout3': 1,#hp.choice('dropout3', [.75, 1]),\n",
        "         \n",
        "            'activation1': hp.choice('activation1', activations),\n",
        "            'activation2': hp.choice('activation2', activations),\n",
        "            'activation3': hp.choice('activation3', activations),\n",
        "\n",
        "            'batch_size' : hp.choice('batch_size', [32, 64, 128]),\n",
        "\n",
        "            'nb_epochs' :  hp.choice('nb_epochs', [5, 7, 10]),\n",
        "            'optimizer': hp.choice('optimizer', ['adadelta','adam','rmsprop']),\n",
        "            #'activation': hp.choice('activation', ['sigmoid', 'tanh']),\n",
        "            'last_activation': hp.choice('last_activation', ['sigmoid', 'hard_sigmoid'])\n",
        "        }"
      ],
      "execution_count": 0,
      "outputs": []
    },
    {
      "metadata": {
        "id": "ZakMbuuC3Z24",
        "colab_type": "code",
        "colab": {}
      },
      "cell_type": "code",
      "source": [
        "scores = []\n",
        "from keras.models import Sequential\n",
        "from keras.layers.core import Dense, Dropout, Activation\n",
        "from keras.optimizers import Adadelta, Adam, rmsprop\n"
      ],
      "execution_count": 0,
      "outputs": []
    },
    {
      "metadata": {
        "id": "LJSCiZKQW6HJ",
        "colab_type": "code",
        "colab": {}
      },
      "cell_type": "code",
      "source": [
        "def f_nn(params):   \n",
        "    print ('Params testing: ', params)\n",
        "    model = Sequential()\n",
        "    model.add(Dense(units=int(params['units1']), input_dim = X.shape[1])) \n",
        "    model.add(Activation(params['activation1']))\n",
        "    model.add(Dropout(params['dropout1']))\n",
        "\n",
        "    model.add(Dense(units=int(params['units2']), kernel_initializer = \"glorot_uniform\")) \n",
        "    model.add(Activation(params['activation2']))\n",
        "    model.add(Dropout(params['dropout2']))\n",
        "\n",
        "    model.add(Dense(units=int(params['units3']), kernel_initializer = \"glorot_uniform\")) \n",
        "    model.add(Activation(params['activation3']))\n",
        "    model.add(Dropout(params['dropout3']))    \n",
        "\n",
        "    if params['choice']['layers'] == 'four':\n",
        "        model.add(Dense(units=int(params['choice']['units4']), kernel_initializer = \"glorot_uniform\")) \n",
        "        model.add(Activation(params['choice']['activation4']))\n",
        "        model.add(Dropout(params['choice']['dropout4']))    \n",
        "\n",
        "    model.add(Dense(31))\n",
        "    model.add(Activation(params['last_activation']))\n",
        "    model.compile(loss='binary_crossentropy', optimizer=params['optimizer'])\n",
        "\n",
        "    model.fit(X, y, epochs=params['nb_epochs'], batch_size=int(params['batch_size']), verbose = 0)\n",
        "\n",
        "    pred_auc = model.predict(X_val)\n",
        "#     acc = roc_auc_score(y_val, pred_auc)\n",
        "    acc = binary_accuracy(y_val, pred_auc)\n",
        "    print('ACCURACY:', acc)\n",
        "    sys.stdout.flush() \n",
        "    scores.append((acc, params))\n",
        "    return {'loss': -acc, 'status': STATUS_OK}"
      ],
      "execution_count": 0,
      "outputs": []
    },
    {
      "metadata": {
        "id": "C6XPHQuf-slL",
        "colab_type": "code",
        "colab": {
          "base_uri": "https://localhost:8080/",
          "height": 3313
        },
        "outputId": "abe9ede6-8f1f-4148-bd14-444898c58c3e"
      },
      "cell_type": "code",
      "source": [
        "trials = Trials()\n",
        "best = fmin(f_nn, space, algo=tpe.suggest, max_evals=350, trials=trials)\n",
        "print('best: ')\n",
        "print(best)"
      ],
      "execution_count": 0,
      "outputs": [
        {
          "output_type": "stream",
          "text": [
            "Params testing:  {'activation1': 'softplus', 'activation2': 'relu', 'activation3': 'softmax', 'batch_size': 128, 'choice': {'layers': 'three'}, 'dropout1': 1, 'dropout2': 1, 'dropout3': 1, 'last_activation': 'hard_sigmoid', 'nb_epochs': 5, 'optimizer': 'adadelta', 'units1': 1024, 'units2': 1024, 'units3': 1024}\n",
            "ACCURACY: 0.0\n",
            "Params testing:  {'activation1': 'elu', 'activation2': 'relu', 'activation3': 'softplus', 'batch_size': 32, 'choice': {'activation4': 'softmax', 'dropout4': 1, 'layers': 'four', 'units4': 1024}, 'dropout1': 1, 'dropout2': 1, 'dropout3': 1, 'last_activation': 'hard_sigmoid', 'nb_epochs': 5, 'optimizer': 'adadelta', 'units1': 256, 'units2': 1024, 'units3': 1024}\n",
            "ACCURACY: 0.0\n",
            "Params testing:  {'activation1': 'relu', 'activation2': 'relu', 'activation3': 'linear', 'batch_size': 128, 'choice': {'layers': 'three'}, 'dropout1': 1, 'dropout2': 1, 'dropout3': 1, 'last_activation': 'hard_sigmoid', 'nb_epochs': 7, 'optimizer': 'adadelta', 'units1': 512, 'units2': 1024, 'units3': 1024}\n",
            "ACCURACY: 0.057291666666666664\n",
            "Params testing:  {'activation1': 'relu', 'activation2': 'softplus', 'activation3': 'softmax', 'batch_size': 32, 'choice': {'activation4': 'elu', 'dropout4': 1, 'layers': 'four', 'units4': 128}, 'dropout1': 1, 'dropout2': 1, 'dropout3': 1, 'last_activation': 'hard_sigmoid', 'nb_epochs': 10, 'optimizer': 'adam', 'units1': 128, 'units2': 256, 'units3': 1024}\n",
            "ACCURACY: 0.0\n",
            "Params testing:  {'activation1': 'softmax', 'activation2': 'softmax', 'activation3': 'elu', 'batch_size': 128, 'choice': {'activation4': 'relu', 'dropout4': 1, 'layers': 'four', 'units4': 256}, 'dropout1': 1, 'dropout2': 1, 'dropout3': 1, 'last_activation': 'sigmoid', 'nb_epochs': 10, 'optimizer': 'adadelta', 'units1': 512, 'units2': 128, 'units3': 128}\n",
            "ACCURACY: 0.0\n",
            "Params testing:  {'activation1': 'relu', 'activation2': 'softplus', 'activation3': 'tanh', 'batch_size': 128, 'choice': {'layers': 'three'}, 'dropout1': 1, 'dropout2': 1, 'dropout3': 1, 'last_activation': 'sigmoid', 'nb_epochs': 10, 'optimizer': 'rmsprop', 'units1': 128, 'units2': 128, 'units3': 256}\n",
            "ACCURACY: 0.064697265625\n",
            "Params testing:  {'activation1': 'softplus', 'activation2': 'relu', 'activation3': 'elu', 'batch_size': 128, 'choice': {'activation4': 'relu', 'dropout4': 1, 'layers': 'four', 'units4': 256}, 'dropout1': 1, 'dropout2': 1, 'dropout3': 1, 'last_activation': 'hard_sigmoid', 'nb_epochs': 7, 'optimizer': 'adam', 'units1': 1024, 'units2': 128, 'units3': 256}\n",
            "ACCURACY: 0.0\n",
            "Params testing:  {'activation1': 'relu', 'activation2': 'elu', 'activation3': 'softplus', 'batch_size': 128, 'choice': {'layers': 'three'}, 'dropout1': 1, 'dropout2': 1, 'dropout3': 1, 'last_activation': 'sigmoid', 'nb_epochs': 10, 'optimizer': 'adam', 'units1': 256, 'units2': 128, 'units3': 128}\n",
            "ACCURACY: 0.064453125\n",
            "Params testing:  {'activation1': 'elu', 'activation2': 'elu', 'activation3': 'elu', 'batch_size': 64, 'choice': {'activation4': 'softmax', 'dropout4': 1, 'layers': 'four', 'units4': 1024}, 'dropout1': 1, 'dropout2': 1, 'dropout3': 1, 'last_activation': 'hard_sigmoid', 'nb_epochs': 5, 'optimizer': 'adam', 'units1': 1024, 'units2': 1024, 'units3': 128}\n",
            "ACCURACY: 0.0\n",
            "Params testing:  {'activation1': 'relu', 'activation2': 'softmax', 'activation3': 'elu', 'batch_size': 64, 'choice': {'layers': 'three'}, 'dropout1': 1, 'dropout2': 1, 'dropout3': 1, 'last_activation': 'hard_sigmoid', 'nb_epochs': 10, 'optimizer': 'adam', 'units1': 128, 'units2': 256, 'units3': 512}\n",
            "ACCURACY: 0.000244140625\n",
            "Params testing:  {'activation1': 'tanh', 'activation2': 'softplus', 'activation3': 'linear', 'batch_size': 64, 'choice': {'layers': 'three'}, 'dropout1': 1, 'dropout2': 1, 'dropout3': 1, 'last_activation': 'sigmoid', 'nb_epochs': 5, 'optimizer': 'adam', 'units1': 512, 'units2': 512, 'units3': 512}\n",
            "ACCURACY: 0.06559244791666667\n",
            "Params testing:  {'activation1': 'tanh', 'activation2': 'relu', 'activation3': 'linear', 'batch_size': 32, 'choice': {'layers': 'three'}, 'dropout1': 1, 'dropout2': 1, 'dropout3': 1, 'last_activation': 'sigmoid', 'nb_epochs': 5, 'optimizer': 'adam', 'units1': 256, 'units2': 1024, 'units3': 1024}\n",
            "ACCURACY: 0.09928385416666667\n",
            "Params testing:  {'activation1': 'relu', 'activation2': 'softplus', 'activation3': 'softplus', 'batch_size': 32, 'choice': {'activation4': 'relu', 'dropout4': 1, 'layers': 'four', 'units4': 1024}, 'dropout1': 1, 'dropout2': 1, 'dropout3': 1, 'last_activation': 'hard_sigmoid', 'nb_epochs': 7, 'optimizer': 'rmsprop', 'units1': 1024, 'units2': 512, 'units3': 512}\n",
            "ACCURACY: 0.0\n",
            "Params testing:  {'activation1': 'softplus', 'activation2': 'linear', 'activation3': 'elu', 'batch_size': 32, 'choice': {'activation4': 'elu', 'dropout4': 1, 'layers': 'four', 'units4': 1024}, 'dropout1': 1, 'dropout2': 1, 'dropout3': 1, 'last_activation': 'sigmoid', 'nb_epochs': 10, 'optimizer': 'adadelta', 'units1': 128, 'units2': 512, 'units3': 256}\n",
            "ACCURACY: 0.06632486979166667\n",
            "Params testing:  {'activation1': 'elu', 'activation2': 'relu', 'activation3': 'softmax', 'batch_size': 32, 'choice': {'layers': 'three'}, 'dropout1': 1, 'dropout2': 1, 'dropout3': 1, 'last_activation': 'hard_sigmoid', 'nb_epochs': 10, 'optimizer': 'adadelta', 'units1': 512, 'units2': 512, 'units3': 256}\n",
            "ACCURACY: 0.0\n",
            "Params testing:  {'activation1': 'relu', 'activation2': 'softmax', 'activation3': 'softmax', 'batch_size': 32, 'choice': {'layers': 'three'}, 'dropout1': 1, 'dropout2': 1, 'dropout3': 1, 'last_activation': 'hard_sigmoid', 'nb_epochs': 7, 'optimizer': 'adadelta', 'units1': 512, 'units2': 512, 'units3': 512}\n",
            "ACCURACY: 0.0\n"
          ],
          "name": "stdout"
        },
        {
          "output_type": "stream",
          "text": [
            "Params testing:  {'activation1': 'tanh', 'activation2': 'relu', 'activation3': 'softplus', 'batch_size': 32, 'choice': {'layers': 'three'}, 'dropout1': 1, 'dropout2': 1, 'dropout3': 1, 'last_activation': 'sigmoid', 'nb_epochs': 5, 'optimizer': 'adam', 'units1': 256, 'units2': 128, 'units3': 512}\n",
            "ACCURACY: 0.06583658854166667\n",
            "Params testing:  {'activation1': 'tanh', 'activation2': 'tanh', 'activation3': 'relu', 'batch_size': 64, 'choice': {'layers': 'three'}, 'dropout1': 1, 'dropout2': 1, 'dropout3': 1, 'last_activation': 'sigmoid', 'nb_epochs': 5, 'optimizer': 'rmsprop', 'units1': 512, 'units2': 512, 'units3': 256}\n",
            "ACCURACY: 0.073486328125\n",
            "Params testing:  {'activation1': 'relu', 'activation2': 'elu', 'activation3': 'tanh', 'batch_size': 128, 'choice': {'layers': 'three'}, 'dropout1': 1, 'dropout2': 1, 'dropout3': 1, 'last_activation': 'hard_sigmoid', 'nb_epochs': 7, 'optimizer': 'adam', 'units1': 512, 'units2': 1024, 'units3': 512}\n",
            "ACCURACY: 8.138020833333333e-05\n",
            "Params testing:  {'activation1': 'tanh', 'activation2': 'elu', 'activation3': 'softplus', 'batch_size': 64, 'choice': {'layers': 'three'}, 'dropout1': 1, 'dropout2': 1, 'dropout3': 1, 'last_activation': 'sigmoid', 'nb_epochs': 7, 'optimizer': 'adadelta', 'units1': 256, 'units2': 1024, 'units3': 512}\n",
            "ACCURACY: 0.064453125\n",
            "Params testing:  {'activation1': 'tanh', 'activation2': 'tanh', 'activation3': 'relu', 'batch_size': 64, 'choice': {'layers': 'three'}, 'dropout1': 1, 'dropout2': 1, 'dropout3': 1, 'last_activation': 'sigmoid', 'nb_epochs': 5, 'optimizer': 'rmsprop', 'units1': 256, 'units2': 256, 'units3': 256}\n",
            "ACCURACY: 0.06730143229166667\n",
            "Params testing:  {'activation1': 'linear', 'activation2': 'tanh', 'activation3': 'relu', 'batch_size': 64, 'choice': {'layers': 'three'}, 'dropout1': 1, 'dropout2': 1, 'dropout3': 1, 'last_activation': 'sigmoid', 'nb_epochs': 5, 'optimizer': 'rmsprop', 'units1': 256, 'units2': 512, 'units3': 1024}\n",
            "ACCURACY: 0.07560221354166667\n",
            "Params testing:  {'activation1': 'linear', 'activation2': 'tanh', 'activation3': 'relu', 'batch_size': 64, 'choice': {'layers': 'three'}, 'dropout1': 1, 'dropout2': 1, 'dropout3': 1, 'last_activation': 'sigmoid', 'nb_epochs': 5, 'optimizer': 'rmsprop', 'units1': 256, 'units2': 1024, 'units3': 1024}\n",
            "ACCURACY: 0.08699544270833333\n",
            "Params testing:  {'activation1': 'linear', 'activation2': 'tanh', 'activation3': 'linear', 'batch_size': 32, 'choice': {'layers': 'three'}, 'dropout1': 1, 'dropout2': 1, 'dropout3': 1, 'last_activation': 'sigmoid', 'nb_epochs': 5, 'optimizer': 'rmsprop', 'units1': 256, 'units2': 1024, 'units3': 1024}\n",
            "ACCURACY: 0.06429036458333333\n",
            "Params testing:  {'activation1': 'linear', 'activation2': 'linear', 'activation3': 'linear', 'batch_size': 64, 'choice': {'layers': 'three'}, 'dropout1': 1, 'dropout2': 1, 'dropout3': 1, 'last_activation': 'sigmoid', 'nb_epochs': 5, 'optimizer': 'rmsprop', 'units1': 256, 'units2': 1024, 'units3': 1024}\n",
            "ACCURACY: 0.06437174479166667\n",
            "Params testing:  {'activation1': 'softmax', 'activation2': 'tanh', 'activation3': 'relu', 'batch_size': 64, 'choice': {'layers': 'three'}, 'dropout1': 1, 'dropout2': 1, 'dropout3': 1, 'last_activation': 'sigmoid', 'nb_epochs': 5, 'optimizer': 'rmsprop', 'units1': 256, 'units2': 1024, 'units3': 1024}\n",
            "ACCURACY: 0.064697265625\n",
            "Params testing:  {'activation1': 'linear', 'activation2': 'tanh', 'activation3': 'linear', 'batch_size': 32, 'choice': {'layers': 'three'}, 'dropout1': 1, 'dropout2': 1, 'dropout3': 1, 'last_activation': 'sigmoid', 'nb_epochs': 5, 'optimizer': 'adam', 'units1': 256, 'units2': 1024, 'units3': 1024}\n",
            "ACCURACY: 0.06429036458333333\n",
            "Params testing:  {'activation1': 'linear', 'activation2': 'linear', 'activation3': 'relu', 'batch_size': 64, 'choice': {'layers': 'three'}, 'dropout1': 1, 'dropout2': 1, 'dropout3': 1, 'last_activation': 'sigmoid', 'nb_epochs': 5, 'optimizer': 'rmsprop', 'units1': 256, 'units2': 1024, 'units3': 1024}\n",
            "ACCURACY: 0.08268229166666667\n",
            "Params testing:  {'activation1': 'linear', 'activation2': 'relu', 'activation3': 'relu', 'batch_size': 32, 'choice': {'layers': 'three'}, 'dropout1': 1, 'dropout2': 1, 'dropout3': 1, 'last_activation': 'sigmoid', 'nb_epochs': 5, 'optimizer': 'adam', 'units1': 256, 'units2': 1024, 'units3': 1024}\n",
            "ACCURACY: 0.17488606770833334\n",
            "Params testing:  {'activation1': 'softmax', 'activation2': 'relu', 'activation3': 'tanh', 'batch_size': 32, 'choice': {'layers': 'three'}, 'dropout1': 1, 'dropout2': 1, 'dropout3': 1, 'last_activation': 'sigmoid', 'nb_epochs': 5, 'optimizer': 'adam', 'units1': 1024, 'units2': 256, 'units3': 1024}\n",
            "ACCURACY: 0.06941731770833333\n",
            "Params testing:  {'activation1': 'tanh', 'activation2': 'relu', 'activation3': 'linear', 'batch_size': 32, 'choice': {'layers': 'three'}, 'dropout1': 1, 'dropout2': 1, 'dropout3': 1, 'last_activation': 'sigmoid', 'nb_epochs': 5, 'optimizer': 'adam', 'units1': 256, 'units2': 1024, 'units3': 1024}\n",
            "ACCURACY: 0.102783203125\n",
            "Params testing:  {'activation1': 'softplus', 'activation2': 'relu', 'activation3': 'linear', 'batch_size': 32, 'choice': {'layers': 'three'}, 'dropout1': 1, 'dropout2': 1, 'dropout3': 1, 'last_activation': 'sigmoid', 'nb_epochs': 5, 'optimizer': 'adam', 'units1': 256, 'units2': 1024, 'units3': 128}\n",
            "ACCURACY: 0.06453450520833333\n",
            "Params testing:  {'activation1': 'elu', 'activation2': 'relu', 'activation3': 'relu', 'batch_size': 32, 'choice': {'activation4': 'softplus', 'dropout4': 1, 'layers': 'four', 'units4': 512}, 'dropout1': 1, 'dropout2': 1, 'dropout3': 1, 'last_activation': 'sigmoid', 'nb_epochs': 5, 'optimizer': 'adam', 'units1': 128, 'units2': 1024, 'units3': 1024}\n",
            "ACCURACY: 0.24137369791666666\n"
          ],
          "name": "stdout"
        },
        {
          "output_type": "stream",
          "text": [
            "Params testing:  {'activation1': 'elu', 'activation2': 'relu', 'activation3': 'relu', 'batch_size': 32, 'choice': {'activation4': 'softplus', 'dropout4': 1, 'layers': 'four', 'units4': 512}, 'dropout1': 1, 'dropout2': 1, 'dropout3': 1, 'last_activation': 'sigmoid', 'nb_epochs': 5, 'optimizer': 'adam', 'units1': 128, 'units2': 1024, 'units3': 1024}\n",
            "ACCURACY: 0.23982747395833334\n",
            "Params testing:  {'activation1': 'elu', 'activation2': 'relu', 'activation3': 'relu', 'batch_size': 32, 'choice': {'activation4': 'softplus', 'dropout4': 1, 'layers': 'four', 'units4': 512}, 'dropout1': 1, 'dropout2': 1, 'dropout3': 1, 'last_activation': 'sigmoid', 'nb_epochs': 5, 'optimizer': 'adam', 'units1': 128, 'units2': 256, 'units3': 1024}\n",
            "ACCURACY: 0.13639322916666666\n",
            "Params testing:  {'activation1': 'elu', 'activation2': 'relu', 'activation3': 'relu', 'batch_size': 32, 'choice': {'activation4': 'softplus', 'dropout4': 1, 'layers': 'four', 'units4': 512}, 'dropout1': 1, 'dropout2': 1, 'dropout3': 1, 'last_activation': 'sigmoid', 'nb_epochs': 7, 'optimizer': 'adam', 'units1': 128, 'units2': 1024, 'units3': 128}\n",
            "ACCURACY: 0.11083984375\n",
            "Params testing:  {'activation1': 'elu', 'activation2': 'softmax', 'activation3': 'relu', 'batch_size': 128, 'choice': {'activation4': 'tanh', 'dropout4': 1, 'layers': 'four', 'units4': 512}, 'dropout1': 1, 'dropout2': 1, 'dropout3': 1, 'last_activation': 'sigmoid', 'nb_epochs': 5, 'optimizer': 'adam', 'units1': 128, 'units2': 128, 'units3': 1024}\n",
            "ACCURACY: 0.06697591145833333\n",
            "Params testing:  {'activation1': 'elu', 'activation2': 'relu', 'activation3': 'softmax', 'batch_size': 32, 'choice': {'activation4': 'softplus', 'dropout4': 1, 'layers': 'four', 'units4': 512}, 'dropout1': 1, 'dropout2': 1, 'dropout3': 1, 'last_activation': 'sigmoid', 'nb_epochs': 10, 'optimizer': 'adam', 'units1': 128, 'units2': 1024, 'units3': 1024}\n",
            "ACCURACY: 0.001953125\n",
            "Params testing:  {'activation1': 'elu', 'activation2': 'softplus', 'activation3': 'tanh', 'batch_size': 32, 'choice': {'activation4': 'linear', 'dropout4': 1, 'layers': 'four', 'units4': 512}, 'dropout1': 1, 'dropout2': 1, 'dropout3': 1, 'last_activation': 'hard_sigmoid', 'nb_epochs': 5, 'optimizer': 'adam', 'units1': 128, 'units2': 256, 'units3': 128}\n",
            "ACCURACY: 0.0\n",
            "Params testing:  {'activation1': 'elu', 'activation2': 'relu', 'activation3': 'relu', 'batch_size': 128, 'choice': {'activation4': 'softplus', 'dropout4': 1, 'layers': 'four', 'units4': 512}, 'dropout1': 1, 'dropout2': 1, 'dropout3': 1, 'last_activation': 'sigmoid', 'nb_epochs': 10, 'optimizer': 'adadelta', 'units1': 128, 'units2': 128, 'units3': 1024}\n",
            "ACCURACY: 0.064453125\n",
            "Params testing:  {'activation1': 'elu', 'activation2': 'linear', 'activation3': 'relu', 'batch_size': 32, 'choice': {'activation4': 'softplus', 'dropout4': 1, 'layers': 'four', 'units4': 128}, 'dropout1': 1, 'dropout2': 1, 'dropout3': 1, 'last_activation': 'sigmoid', 'nb_epochs': 7, 'optimizer': 'adam', 'units1': 128, 'units2': 1024, 'units3': 1024}\n",
            "ACCURACY: 0.24641927083333334\n",
            "Params testing:  {'activation1': 'elu', 'activation2': 'linear', 'activation3': 'elu', 'batch_size': 128, 'choice': {'activation4': 'softplus', 'dropout4': 1, 'layers': 'four', 'units4': 128}, 'dropout1': 1, 'dropout2': 1, 'dropout3': 1, 'last_activation': 'hard_sigmoid', 'nb_epochs': 7, 'optimizer': 'adam', 'units1': 128, 'units2': 1024, 'units3': 128}\n",
            "ACCURACY: 8.138020833333333e-05\n",
            "Params testing:  {'activation1': 'softmax', 'activation2': 'linear', 'activation3': 'softmax', 'batch_size': 32, 'choice': {'activation4': 'linear', 'dropout4': 1, 'layers': 'four', 'units4': 128}, 'dropout1': 1, 'dropout2': 1, 'dropout3': 1, 'last_activation': 'sigmoid', 'nb_epochs': 7, 'optimizer': 'adam', 'units1': 128, 'units2': 128, 'units3': 256}\n",
            "ACCURACY: 0.0\n",
            "Params testing:  {'activation1': 'softplus', 'activation2': 'linear', 'activation3': 'relu', 'batch_size': 32, 'choice': {'activation4': 'tanh', 'dropout4': 1, 'layers': 'four', 'units4': 128}, 'dropout1': 1, 'dropout2': 1, 'dropout3': 1, 'last_activation': 'hard_sigmoid', 'nb_epochs': 7, 'optimizer': 'adadelta', 'units1': 1024, 'units2': 256, 'units3': 1024}\n",
            "ACCURACY: 0.0032552083333333335\n",
            "Params testing:  {'activation1': 'elu', 'activation2': 'linear', 'activation3': 'softplus', 'batch_size': 32, 'choice': {'activation4': 'softplus', 'dropout4': 1, 'layers': 'four', 'units4': 128}, 'dropout1': 1, 'dropout2': 1, 'dropout3': 1, 'last_activation': 'sigmoid', 'nb_epochs': 7, 'optimizer': 'adam', 'units1': 128, 'units2': 1024, 'units3': 1024}\n",
            "ACCURACY: 0.2850748697916667\n",
            "Params testing:  {'activation1': 'elu', 'activation2': 'linear', 'activation3': 'softplus', 'batch_size': 128, 'choice': {'activation4': 'softplus', 'dropout4': 1, 'layers': 'four', 'units4': 128}, 'dropout1': 1, 'dropout2': 1, 'dropout3': 1, 'last_activation': 'sigmoid', 'nb_epochs': 7, 'optimizer': 'adam', 'units1': 128, 'units2': 1024, 'units3': 128}\n",
            "ACCURACY: 0.064697265625\n",
            "Params testing:  {'activation1': 'softplus', 'activation2': 'linear', 'activation3': 'softplus', 'batch_size': 32, 'choice': {'activation4': 'softmax', 'dropout4': 1, 'layers': 'four', 'units4': 128}, 'dropout1': 1, 'dropout2': 1, 'dropout3': 1, 'last_activation': 'hard_sigmoid', 'nb_epochs': 7, 'optimizer': 'adadelta', 'units1': 1024, 'units2': 128, 'units3': 256}\n",
            "ACCURACY: 0.0\n",
            "Params testing:  {'activation1': 'elu', 'activation2': 'linear', 'activation3': 'softplus', 'batch_size': 32, 'choice': {'activation4': 'softplus', 'dropout4': 1, 'layers': 'four', 'units4': 128}, 'dropout1': 1, 'dropout2': 1, 'dropout3': 1, 'last_activation': 'sigmoid', 'nb_epochs': 7, 'optimizer': 'adam', 'units1': 128, 'units2': 512, 'units3': 512}\n",
            "ACCURACY: 0.150634765625\n",
            "Params testing:  {'activation1': 'softmax', 'activation2': 'linear', 'activation3': 'softplus', 'batch_size': 32, 'choice': {'activation4': 'elu', 'dropout4': 1, 'layers': 'four', 'units4': 128}, 'dropout1': 1, 'dropout2': 1, 'dropout3': 1, 'last_activation': 'sigmoid', 'nb_epochs': 7, 'optimizer': 'adam', 'units1': 128, 'units2': 1024, 'units3': 1024}\n"
          ],
          "name": "stdout"
        },
        {
          "output_type": "stream",
          "text": [
            "ACCURACY: 0.06681315104166667\n",
            "Params testing:  {'activation1': 'elu', 'activation2': 'softmax', 'activation3': 'softplus', 'batch_size': 128, 'choice': {'activation4': 'linear', 'dropout4': 1, 'layers': 'four', 'units4': 128}, 'dropout1': 1, 'dropout2': 1, 'dropout3': 1, 'last_activation': 'hard_sigmoid', 'nb_epochs': 7, 'optimizer': 'adadelta', 'units1': 512, 'units2': 256, 'units3': 256}\n",
            "ACCURACY: 0.0\n",
            "Params testing:  {'activation1': 'elu', 'activation2': 'elu', 'activation3': 'elu', 'batch_size': 32, 'choice': {'activation4': 'tanh', 'dropout4': 1, 'layers': 'four', 'units4': 256}, 'dropout1': 1, 'dropout2': 1, 'dropout3': 1, 'last_activation': 'sigmoid', 'nb_epochs': 7, 'optimizer': 'adam', 'units1': 128, 'units2': 1024, 'units3': 512}\n",
            "ACCURACY: 0.188232421875\n",
            "Params testing:  {'activation1': 'relu', 'activation2': 'softplus', 'activation3': 'tanh', 'batch_size': 32, 'choice': {'activation4': 'softplus', 'dropout4': 1, 'layers': 'four', 'units4': 128}, 'dropout1': 1, 'dropout2': 1, 'dropout3': 1, 'last_activation': 'sigmoid', 'nb_epochs': 7, 'optimizer': 'adam', 'units1': 1024, 'units2': 512, 'units3': 1024}\n",
            "ACCURACY: 0.3980305989583333\n",
            "Params testing:  {'activation1': 'relu', 'activation2': 'softplus', 'activation3': 'tanh', 'batch_size': 128, 'choice': {'activation4': 'softplus', 'dropout4': 1, 'layers': 'four', 'units4': 128}, 'dropout1': 1, 'dropout2': 1, 'dropout3': 1, 'last_activation': 'hard_sigmoid', 'nb_epochs': 7, 'optimizer': 'adam', 'units1': 1024, 'units2': 512, 'units3': 128}\n",
            "ACCURACY: 0.0\n",
            "Params testing:  {'activation1': 'relu', 'activation2': 'softplus', 'activation3': 'tanh', 'batch_size': 32, 'choice': {'activation4': 'softmax', 'dropout4': 1, 'layers': 'four', 'units4': 128}, 'dropout1': 1, 'dropout2': 1, 'dropout3': 1, 'last_activation': 'sigmoid', 'nb_epochs': 10, 'optimizer': 'adadelta', 'units1': 1024, 'units2': 512, 'units3': 1024}\n",
            "ACCURACY: 0.0\n",
            "Params testing:  {'activation1': 'relu', 'activation2': 'softplus', 'activation3': 'tanh', 'batch_size': 32, 'choice': {'activation4': 'relu', 'dropout4': 1, 'layers': 'four', 'units4': 256}, 'dropout1': 1, 'dropout2': 1, 'dropout3': 1, 'last_activation': 'sigmoid', 'nb_epochs': 7, 'optimizer': 'adam', 'units1': 1024, 'units2': 512, 'units3': 512}\n",
            "ACCURACY: 0.3710123697916667\n",
            "Params testing:  {'activation1': 'relu', 'activation2': 'softplus', 'activation3': 'tanh', 'batch_size': 32, 'choice': {'activation4': 'relu', 'dropout4': 1, 'layers': 'four', 'units4': 256}, 'dropout1': 1, 'dropout2': 1, 'dropout3': 1, 'last_activation': 'sigmoid', 'nb_epochs': 7, 'optimizer': 'rmsprop', 'units1': 1024, 'units2': 512, 'units3': 512}\n",
            "ACCURACY: 0.4026692708333333\n",
            "Params testing:  {'activation1': 'relu', 'activation2': 'softplus', 'activation3': 'tanh', 'batch_size': 64, 'choice': {'activation4': 'relu', 'dropout4': 1, 'layers': 'four', 'units4': 256}, 'dropout1': 1, 'dropout2': 1, 'dropout3': 1, 'last_activation': 'hard_sigmoid', 'nb_epochs': 7, 'optimizer': 'rmsprop', 'units1': 1024, 'units2': 512, 'units3': 512}\n",
            "ACCURACY: 0.06844075520833333\n",
            "Params testing:  {'activation1': 'relu', 'activation2': 'softplus', 'activation3': 'tanh', 'batch_size': 128, 'choice': {'activation4': 'relu', 'dropout4': 1, 'layers': 'four', 'units4': 256}, 'dropout1': 1, 'dropout2': 1, 'dropout3': 1, 'last_activation': 'sigmoid', 'nb_epochs': 10, 'optimizer': 'rmsprop', 'units1': 1024, 'units2': 512, 'units3': 512}\n",
            "ACCURACY: 0.2559407552083333\n",
            "Params testing:  {'activation1': 'relu', 'activation2': 'softplus', 'activation3': 'tanh', 'batch_size': 32, 'choice': {'activation4': 'relu', 'dropout4': 1, 'layers': 'four', 'units4': 256}, 'dropout1': 1, 'dropout2': 1, 'dropout3': 1, 'last_activation': 'sigmoid', 'nb_epochs': 7, 'optimizer': 'rmsprop', 'units1': 1024, 'units2': 512, 'units3': 512}\n",
            "ACCURACY: 0.3966471354166667\n",
            "Params testing:  {'activation1': 'relu', 'activation2': 'softplus', 'activation3': 'tanh', 'batch_size': 64, 'choice': {'activation4': 'elu', 'dropout4': 1, 'layers': 'four', 'units4': 256}, 'dropout1': 1, 'dropout2': 1, 'dropout3': 1, 'last_activation': 'sigmoid', 'nb_epochs': 7, 'optimizer': 'rmsprop', 'units1': 1024, 'units2': 512, 'units3': 512}\n",
            "ACCURACY: 0.277099609375\n",
            "Params testing:  {'activation1': 'relu', 'activation2': 'softplus', 'activation3': 'tanh', 'batch_size': 32, 'choice': {'activation4': 'relu', 'dropout4': 1, 'layers': 'four', 'units4': 1024}, 'dropout1': 1, 'dropout2': 1, 'dropout3': 1, 'last_activation': 'hard_sigmoid', 'nb_epochs': 7, 'optimizer': 'rmsprop', 'units1': 1024, 'units2': 512, 'units3': 512}\n",
            "ACCURACY: 0.063720703125\n",
            "Params testing:  {'activation1': 'relu', 'activation2': 'elu', 'activation3': 'tanh', 'batch_size': 32, 'choice': {'activation4': 'softmax', 'dropout4': 1, 'layers': 'four', 'units4': 256}, 'dropout1': 1, 'dropout2': 1, 'dropout3': 1, 'last_activation': 'sigmoid', 'nb_epochs': 10, 'optimizer': 'rmsprop', 'units1': 1024, 'units2': 512, 'units3': 512}\n",
            "ACCURACY: 0.0\n",
            "Params testing:  {'activation1': 'relu', 'activation2': 'softplus', 'activation3': 'softmax', 'batch_size': 64, 'choice': {'activation4': 'relu', 'dropout4': 1, 'layers': 'four', 'units4': 1024}, 'dropout1': 1, 'dropout2': 1, 'dropout3': 1, 'last_activation': 'sigmoid', 'nb_epochs': 7, 'optimizer': 'rmsprop', 'units1': 512, 'units2': 512, 'units3': 256}\n",
            "ACCURACY: 0.0\n",
            "Params testing:  {'activation1': 'relu', 'activation2': 'softmax', 'activation3': 'tanh', 'batch_size': 32, 'choice': {'activation4': 'elu', 'dropout4': 1, 'layers': 'four', 'units4': 256}, 'dropout1': 1, 'dropout2': 1, 'dropout3': 1, 'last_activation': 'sigmoid', 'nb_epochs': 7, 'optimizer': 'rmsprop', 'units1': 1024, 'units2': 512, 'units3': 512}\n",
            "ACCURACY: 0.12882486979166666\n",
            "Params testing:  {'activation1': 'softplus', 'activation2': 'softplus', 'activation3': 'tanh', 'batch_size': 128, 'choice': {'activation4': 'relu', 'dropout4': 1, 'layers': 'four', 'units4': 1024}, 'dropout1': 1, 'dropout2': 1, 'dropout3': 1, 'last_activation': 'sigmoid', 'nb_epochs': 10, 'optimizer': 'rmsprop', 'units1': 1024, 'units2': 512, 'units3': 512}\n"
          ],
          "name": "stdout"
        },
        {
          "output_type": "stream",
          "text": [
            "ACCURACY: 0.07918294270833333\n",
            "Params testing:  {'activation1': 'relu', 'activation2': 'softplus', 'activation3': 'tanh', 'batch_size': 32, 'choice': {'activation4': 'relu', 'dropout4': 1, 'layers': 'four', 'units4': 256}, 'dropout1': 1, 'dropout2': 1, 'dropout3': 1, 'last_activation': 'sigmoid', 'nb_epochs': 7, 'optimizer': 'rmsprop', 'units1': 1024, 'units2': 512, 'units3': 512}\n",
            "ACCURACY: 0.4090169270833333\n",
            "Params testing:  {'activation1': 'relu', 'activation2': 'softplus', 'activation3': 'tanh', 'batch_size': 32, 'choice': {'activation4': 'relu', 'dropout4': 1, 'layers': 'four', 'units4': 256}, 'dropout1': 1, 'dropout2': 1, 'dropout3': 1, 'last_activation': 'sigmoid', 'nb_epochs': 7, 'optimizer': 'rmsprop', 'units1': 1024, 'units2': 512, 'units3': 512}\n",
            "ACCURACY: 0.4024251302083333\n",
            "Params testing:  {'activation1': 'relu', 'activation2': 'softplus', 'activation3': 'tanh', 'batch_size': 32, 'choice': {'activation4': 'relu', 'dropout4': 1, 'layers': 'four', 'units4': 256}, 'dropout1': 1, 'dropout2': 1, 'dropout3': 1, 'last_activation': 'sigmoid', 'nb_epochs': 7, 'optimizer': 'rmsprop', 'units1': 1024, 'units2': 512, 'units3': 512}\n",
            "ACCURACY: 0.3924153645833333\n",
            "Params testing:  {'activation1': 'relu', 'activation2': 'softplus', 'activation3': 'tanh', 'batch_size': 32, 'choice': {'activation4': 'relu', 'dropout4': 1, 'layers': 'four', 'units4': 256}, 'dropout1': 1, 'dropout2': 1, 'dropout3': 1, 'last_activation': 'sigmoid', 'nb_epochs': 7, 'optimizer': 'rmsprop', 'units1': 1024, 'units2': 512, 'units3': 512}\n",
            "ACCURACY: 0.3911946614583333\n",
            "Params testing:  {'activation1': 'tanh', 'activation2': 'softplus', 'activation3': 'elu', 'batch_size': 32, 'choice': {'activation4': 'relu', 'dropout4': 1, 'layers': 'four', 'units4': 256}, 'dropout1': 1, 'dropout2': 1, 'dropout3': 1, 'last_activation': 'sigmoid', 'nb_epochs': 7, 'optimizer': 'rmsprop', 'units1': 1024, 'units2': 512, 'units3': 512}\n",
            "ACCURACY: 0.3553873697916667\n",
            "Params testing:  {'activation1': 'relu', 'activation2': 'softplus', 'activation3': 'tanh', 'batch_size': 32, 'choice': {'activation4': 'relu', 'dropout4': 1, 'layers': 'four', 'units4': 256}, 'dropout1': 1, 'dropout2': 1, 'dropout3': 1, 'last_activation': 'sigmoid', 'nb_epochs': 7, 'optimizer': 'rmsprop', 'units1': 1024, 'units2': 512, 'units3': 512}\n",
            "ACCURACY: 0.4034830729166667\n",
            "Params testing:  {'activation1': 'softmax', 'activation2': 'elu', 'activation3': 'tanh', 'batch_size': 32, 'choice': {'activation4': 'relu', 'dropout4': 1, 'layers': 'four', 'units4': 256}, 'dropout1': 1, 'dropout2': 1, 'dropout3': 1, 'last_activation': 'sigmoid', 'nb_epochs': 7, 'optimizer': 'rmsprop', 'units1': 512, 'units2': 512, 'units3': 512}\n",
            "ACCURACY: 0.068603515625\n",
            "Params testing:  {'activation1': 'relu', 'activation2': 'softplus', 'activation3': 'softmax', 'batch_size': 32, 'choice': {'activation4': 'relu', 'dropout4': 1, 'layers': 'four', 'units4': 256}, 'dropout1': 1, 'dropout2': 1, 'dropout3': 1, 'last_activation': 'sigmoid', 'nb_epochs': 7, 'optimizer': 'rmsprop', 'units1': 1024, 'units2': 512, 'units3': 512}\n",
            "ACCURACY: 0.015950520833333332\n",
            "Params testing:  {'activation1': 'relu', 'activation2': 'softmax', 'activation3': 'linear', 'batch_size': 32, 'choice': {'activation4': 'tanh', 'dropout4': 1, 'layers': 'four', 'units4': 256}, 'dropout1': 1, 'dropout2': 1, 'dropout3': 1, 'last_activation': 'sigmoid', 'nb_epochs': 7, 'optimizer': 'rmsprop', 'units1': 1024, 'units2': 128, 'units3': 512}\n",
            "ACCURACY: 0.1083984375\n",
            "Params testing:  {'activation1': 'tanh', 'activation2': 'tanh', 'activation3': 'tanh', 'batch_size': 32, 'choice': {'activation4': 'linear', 'dropout4': 1, 'layers': 'four', 'units4': 256}, 'dropout1': 1, 'dropout2': 1, 'dropout3': 1, 'last_activation': 'sigmoid', 'nb_epochs': 7, 'optimizer': 'rmsprop', 'units1': 1024, 'units2': 512, 'units3': 512}\n",
            "ACCURACY: 0.380126953125\n",
            "Params testing:  {'activation1': 'linear', 'activation2': 'softplus', 'activation3': 'elu', 'batch_size': 32, 'choice': {'activation4': 'relu', 'dropout4': 1, 'layers': 'four', 'units4': 256}, 'dropout1': 1, 'dropout2': 1, 'dropout3': 1, 'last_activation': 'sigmoid', 'nb_epochs': 7, 'optimizer': 'rmsprop', 'units1': 1024, 'units2': 256, 'units3': 512}\n",
            "ACCURACY: 0.277587890625\n",
            "Params testing:  {'activation1': 'relu', 'activation2': 'softplus', 'activation3': 'tanh', 'batch_size': 64, 'choice': {'activation4': 'relu', 'dropout4': 1, 'layers': 'four', 'units4': 256}, 'dropout1': 1, 'dropout2': 1, 'dropout3': 1, 'last_activation': 'sigmoid', 'nb_epochs': 10, 'optimizer': 'rmsprop', 'units1': 512, 'units2': 512, 'units3': 512}\n",
            "ACCURACY: 0.373046875\n",
            "Params testing:  {'activation1': 'softplus', 'activation2': 'softplus', 'activation3': 'tanh', 'batch_size': 32, 'choice': {'activation4': 'relu', 'dropout4': 1, 'layers': 'four', 'units4': 1024}, 'dropout1': 1, 'dropout2': 1, 'dropout3': 1, 'last_activation': 'sigmoid', 'nb_epochs': 7, 'optimizer': 'rmsprop', 'units1': 1024, 'units2': 128, 'units3': 512}\n",
            "ACCURACY: 0.165771484375\n",
            "Params testing:  {'activation1': 'softmax', 'activation2': 'elu', 'activation3': 'linear', 'batch_size': 32, 'choice': {'layers': 'three'}, 'dropout1': 1, 'dropout2': 1, 'dropout3': 1, 'last_activation': 'hard_sigmoid', 'nb_epochs': 7, 'optimizer': 'rmsprop', 'units1': 1024, 'units2': 512, 'units3': 512}\n",
            "ACCURACY: 0.052897135416666664\n",
            "Params testing:  {'activation1': 'relu', 'activation2': 'tanh', 'activation3': 'softmax', 'batch_size': 32, 'choice': {'activation4': 'softmax', 'dropout4': 1, 'layers': 'four', 'units4': 512}, 'dropout1': 1, 'dropout2': 1, 'dropout3': 1, 'last_activation': 'sigmoid', 'nb_epochs': 7, 'optimizer': 'rmsprop', 'units1': 1024, 'units2': 512, 'units3': 128}\n",
            "ACCURACY: 0.0\n",
            "Params testing:  {'activation1': 'relu', 'activation2': 'softmax', 'activation3': 'tanh', 'batch_size': 128, 'choice': {'activation4': 'tanh', 'dropout4': 1, 'layers': 'four', 'units4': 256}, 'dropout1': 1, 'dropout2': 1, 'dropout3': 1, 'last_activation': 'sigmoid', 'nb_epochs': 7, 'optimizer': 'rmsprop', 'units1': 512, 'units2': 256, 'units3': 256}\n"
          ],
          "name": "stdout"
        },
        {
          "output_type": "stream",
          "text": [
            "ACCURACY: 0.0693359375\n",
            "Params testing:  {'activation1': 'linear', 'activation2': 'softplus', 'activation3': 'elu', 'batch_size': 64, 'choice': {'activation4': 'linear', 'dropout4': 1, 'layers': 'four', 'units4': 256}, 'dropout1': 1, 'dropout2': 1, 'dropout3': 1, 'last_activation': 'sigmoid', 'nb_epochs': 10, 'optimizer': 'adadelta', 'units1': 1024, 'units2': 512, 'units3': 512}\n",
            "ACCURACY: 0.064453125\n",
            "Params testing:  {'activation1': 'tanh', 'activation2': 'softplus', 'activation3': 'tanh', 'batch_size': 32, 'choice': {'layers': 'three'}, 'dropout1': 1, 'dropout2': 1, 'dropout3': 1, 'last_activation': 'hard_sigmoid', 'nb_epochs': 7, 'optimizer': 'rmsprop', 'units1': 1024, 'units2': 128, 'units3': 512}\n",
            "ACCURACY: 0.0673828125\n",
            "Params testing:  {'activation1': 'relu', 'activation2': 'softplus', 'activation3': 'tanh', 'batch_size': 32, 'choice': {'activation4': 'elu', 'dropout4': 1, 'layers': 'four', 'units4': 512}, 'dropout1': 1, 'dropout2': 1, 'dropout3': 1, 'last_activation': 'sigmoid', 'nb_epochs': 7, 'optimizer': 'rmsprop', 'units1': 1024, 'units2': 512, 'units3': 128}\n",
            "ACCURACY: 0.3269856770833333\n",
            "Params testing:  {'activation1': 'softplus', 'activation2': 'tanh', 'activation3': 'linear', 'batch_size': 32, 'choice': {'activation4': 'relu', 'dropout4': 1, 'layers': 'four', 'units4': 256}, 'dropout1': 1, 'dropout2': 1, 'dropout3': 1, 'last_activation': 'sigmoid', 'nb_epochs': 7, 'optimizer': 'rmsprop', 'units1': 256, 'units2': 256, 'units3': 512}\n",
            "ACCURACY: 0.076904296875\n",
            "Params testing:  {'activation1': 'relu', 'activation2': 'elu', 'activation3': 'softmax', 'batch_size': 32, 'choice': {'activation4': 'relu', 'dropout4': 1, 'layers': 'four', 'units4': 256}, 'dropout1': 1, 'dropout2': 1, 'dropout3': 1, 'last_activation': 'sigmoid', 'nb_epochs': 7, 'optimizer': 'adadelta', 'units1': 1024, 'units2': 512, 'units3': 256}\n",
            "ACCURACY: 0.0\n",
            "Params testing:  {'activation1': 'softmax', 'activation2': 'softplus', 'activation3': 'tanh', 'batch_size': 128, 'choice': {'layers': 'three'}, 'dropout1': 1, 'dropout2': 1, 'dropout3': 1, 'last_activation': 'sigmoid', 'nb_epochs': 10, 'optimizer': 'rmsprop', 'units1': 512, 'units2': 512, 'units3': 512}\n",
            "ACCURACY: 0.0\n",
            "Params testing:  {'activation1': 'relu', 'activation2': 'softmax', 'activation3': 'tanh', 'batch_size': 32, 'choice': {'activation4': 'softmax', 'dropout4': 1, 'layers': 'four', 'units4': 1024}, 'dropout1': 1, 'dropout2': 1, 'dropout3': 1, 'last_activation': 'hard_sigmoid', 'nb_epochs': 7, 'optimizer': 'rmsprop', 'units1': 1024, 'units2': 128, 'units3': 512}\n",
            "ACCURACY: 0.0\n",
            "Params testing:  {'activation1': 'linear', 'activation2': 'softplus', 'activation3': 'elu', 'batch_size': 64, 'choice': {'activation4': 'tanh', 'dropout4': 1, 'layers': 'four', 'units4': 256}, 'dropout1': 1, 'dropout2': 1, 'dropout3': 1, 'last_activation': 'sigmoid', 'nb_epochs': 7, 'optimizer': 'rmsprop', 'units1': 1024, 'units2': 512, 'units3': 128}\n",
            "ACCURACY: 0.17325846354166666\n",
            "Params testing:  {'activation1': 'tanh', 'activation2': 'softplus', 'activation3': 'tanh', 'batch_size': 32, 'choice': {'activation4': 'linear', 'dropout4': 1, 'layers': 'four', 'units4': 512}, 'dropout1': 1, 'dropout2': 1, 'dropout3': 1, 'last_activation': 'sigmoid', 'nb_epochs': 7, 'optimizer': 'adadelta', 'units1': 256, 'units2': 512, 'units3': 512}\n",
            "ACCURACY: 0.06477864583333333\n",
            "Params testing:  {'activation1': 'relu', 'activation2': 'softplus', 'activation3': 'softplus', 'batch_size': 32, 'choice': {'layers': 'three'}, 'dropout1': 1, 'dropout2': 1, 'dropout3': 1, 'last_activation': 'sigmoid', 'nb_epochs': 7, 'optimizer': 'rmsprop', 'units1': 1024, 'units2': 256, 'units3': 256}\n",
            "ACCURACY: 0.1083984375\n",
            "Params testing:  {'activation1': 'softplus', 'activation2': 'tanh', 'activation3': 'linear', 'batch_size': 128, 'choice': {'activation4': 'relu', 'dropout4': 1, 'layers': 'four', 'units4': 256}, 'dropout1': 1, 'dropout2': 1, 'dropout3': 1, 'last_activation': 'hard_sigmoid', 'nb_epochs': 5, 'optimizer': 'rmsprop', 'units1': 1024, 'units2': 512, 'units3': 512}\n",
            "ACCURACY: 0.0\n",
            "Params testing:  {'activation1': 'relu', 'activation2': 'elu', 'activation3': 'tanh', 'batch_size': 32, 'choice': {'activation4': 'elu', 'dropout4': 1, 'layers': 'four', 'units4': 256}, 'dropout1': 1, 'dropout2': 1, 'dropout3': 1, 'last_activation': 'sigmoid', 'nb_epochs': 7, 'optimizer': 'rmsprop', 'units1': 512, 'units2': 512, 'units3': 512}\n",
            "ACCURACY: 0.28466796875\n",
            "Params testing:  {'activation1': 'softmax', 'activation2': 'softplus', 'activation3': 'softmax', 'batch_size': 64, 'choice': {'activation4': 'relu', 'dropout4': 1, 'layers': 'four', 'units4': 256}, 'dropout1': 1, 'dropout2': 1, 'dropout3': 1, 'last_activation': 'sigmoid', 'nb_epochs': 10, 'optimizer': 'adadelta', 'units1': 1024, 'units2': 128, 'units3': 512}\n",
            "ACCURACY: 0.0\n",
            "Params testing:  {'activation1': 'relu', 'activation2': 'softmax', 'activation3': 'tanh', 'batch_size': 32, 'choice': {'activation4': 'relu', 'dropout4': 1, 'layers': 'four', 'units4': 1024}, 'dropout1': 1, 'dropout2': 1, 'dropout3': 1, 'last_activation': 'sigmoid', 'nb_epochs': 7, 'optimizer': 'rmsprop', 'units1': 256, 'units2': 512, 'units3': 128}\n"
          ],
          "name": "stdout"
        }
      ]
    },
    {
      "metadata": {
        "id": "L4HUHhZKW6HS",
        "colab_type": "code",
        "colab": {
          "base_uri": "https://localhost:8080/",
          "height": 54
        },
        "outputId": "0603f654-a237-4725-b465-e9e23d4ab7f5"
      },
      "cell_type": "code",
      "source": [
        "print(max(scores))"
      ],
      "execution_count": 0,
      "outputs": [
        {
          "output_type": "stream",
          "text": [
            "(0.20524088541666666, {'activation1': 'relu', 'activation2': 'elu', 'activation3': 'tanh', 'batch_size': 64, 'choice': {'layers': 'three'}, 'dropout1': 1, 'dropout2': 1, 'dropout3': 1, 'last_activation': 'sigmoid', 'nb_epochs': 10, 'optimizer': 'adam', 'units1': 1024, 'units2': 256, 'units3': 512})\n"
          ],
          "name": "stdout"
        }
      ]
    }
  ]
}