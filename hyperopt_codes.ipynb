{
  "nbformat": 4,
  "nbformat_minor": 0,
  "metadata": {
    "colab": {
      "name": "hyperopt_codes.ipynb",
      "version": "0.3.2",
      "provenance": [],
      "collapsed_sections": []
    },
    "kernelspec": {
      "display_name": "Python 3",
      "language": "python",
      "name": "python3"
    },
    "accelerator": "GPU"
  },
  "cells": [
    {
      "cell_type": "markdown",
      "metadata": {
        "id": "view-in-github",
        "colab_type": "text"
      },
      "source": [
        "[View in Colaboratory](https://colab.research.google.com/github/Chewbaccamaster/hyperopt_codes/blob/master/hyperopt_codes.ipynb)"
      ]
    },
    {
      "metadata": {
        "id": "Okz3VTzXW7wn",
        "colab_type": "code",
        "colab": {}
      },
      "cell_type": "code",
      "source": [
        "!apt-get install -y -qq software-properties-common python-software-properties module-init-tools\n",
        "!add-apt-repository -y ppa:alessandro-strada/ppa 2>&1 > /dev/null\n",
        "!apt-get update -qq 2>&1 > /dev/null\n",
        "!apt-get -y install -qq google-drive-ocamlfuse fuse\n",
        "from google.colab import auth\n",
        "auth.authenticate_user()\n",
        "from oauth2client.client import GoogleCredentials\n",
        "creds = GoogleCredentials.get_application_default()\n",
        "import getpass\n",
        "!google-drive-ocamlfuse -headless -id={creds.client_id} -secret={creds.client_secret} < /dev/null 2>&1 | grep URL\n",
        "vcode = getpass.getpass()\n",
        "!echo {vcode} | google-drive-ocamlfuse -headless -id={creds.client_id} -secret={creds.client_secret}"
      ],
      "execution_count": 0,
      "outputs": []
    },
    {
      "metadata": {
        "id": "vtwjwqJgX1r8",
        "colab_type": "code",
        "colab": {}
      },
      "cell_type": "code",
      "source": [
        "!mkdir -p drive\n",
        "!google-drive-ocamlfuse drive"
      ],
      "execution_count": 0,
      "outputs": []
    },
    {
      "metadata": {
        "id": "tLBpsqUwW6GP",
        "colab_type": "code",
        "colab": {}
      },
      "cell_type": "code",
      "source": [
        "import os \n",
        "import sys\n",
        "import pandas as pd\n",
        "import numpy as np\n",
        "\n",
        "from sklearn import model_selection\n",
        "from __future__ import absolute_import\n",
        "os.chdir(\"/content/drive/Hamming\")\n",
        "sys.path.append(\"Hamming\")"
      ],
      "execution_count": 0,
      "outputs": []
    },
    {
      "metadata": {
        "id": "WuFjNpRmX-mM",
        "colab_type": "code",
        "colab": {}
      },
      "cell_type": "code",
      "source": [
        "!pip install hyperopt\n",
        "!pip install networkx==1.11\n"
      ],
      "execution_count": 0,
      "outputs": []
    },
    {
      "metadata": {
        "id": "ZRwu0DFrW6Gf",
        "colab_type": "code",
        "colab": {}
      },
      "cell_type": "code",
      "source": [
        "TRAIN_PATH = './dataset_files/hamming_small.txt'  # \"/content/drive/Hamming/dataset_files/hamming.txt\"\n",
        "\n",
        "COLUMN_NAMES = ['plainword', 'codeword', \n",
        "                'id_error', 'bin_error', 'defective_codeword']\n",
        "def load_data():\n",
        "    return pd.read_csv(TRAIN_PATH, sep=';', names=COLUMN_NAMES)"
      ],
      "execution_count": 0,
      "outputs": []
    },
    {
      "metadata": {
        "id": "WWEgVlIiW6Gl",
        "colab_type": "code",
        "colab": {}
      },
      "cell_type": "code",
      "source": [
        "def make_features():\n",
        "#     data['dec_defective_codeword'] = data['defective_codeword'][:].apply(lambda x: int(x, 2))\n",
        "\n",
        "    for j in range(len(data['codeword'][0])):\n",
        "        data['cod_' + str(j)] = data['codeword'][:].apply(lambda x: int(x[j]))\n",
        "\n",
        "    for j in range(len(data['defective_codeword'][0])):\n",
        "        data['def_' + str(j)] = data['defective_codeword'][:].apply(lambda x: int(x[j]))\n",
        "\n",
        "#     for j in range(len(data['bin_error'][0])):\n",
        "#         data['mask_' + str(j)] = data['bin_error'][:].apply(lambda x: int(x[j]))\n",
        "        \n",
        "    for j in range(len(data['plainword'][0])):\n",
        "        data['pln_' + str(j)] = data['plainword'][:].apply(lambda x: int(x[j]))\n",
        "#     return data"
      ],
      "execution_count": 0,
      "outputs": []
    },
    {
      "metadata": {
        "id": "i_6JVcfXW6Gq",
        "colab_type": "code",
        "colab": {}
      },
      "cell_type": "code",
      "source": [
        "def split_data(test_size): \n",
        "  train_data, test_data, train_labels, test_labels = \\\n",
        "    model_selection.train_test_split(data.loc[:, 'def_0':'def_30'], \n",
        "      data.loc[:, 'cod_0':'cod_30'], # 'mask_0':'pln_25' \n",
        "      test_size = test_size) \n",
        "  return np.array(train_data), np.array(test_data), np.array(train_labels), np.array(test_labels)"
      ],
      "execution_count": 0,
      "outputs": []
    },
    {
      "metadata": {
        "id": "iVeFMadmW6Gw",
        "colab_type": "code",
        "colab": {}
      },
      "cell_type": "code",
      "source": [
        "%%time\n",
        "data = load_data()\n",
        "print(data.shape)\n",
        "make_features()\n",
        "print(data.shape)\n",
        "train_data, test_data, train_labels, test_labels = split_data(test_size=0.3)"
      ],
      "execution_count": 0,
      "outputs": []
    },
    {
      "metadata": {
        "id": "fKFGqPt7W6G4",
        "colab_type": "code",
        "colab": {}
      },
      "cell_type": "code",
      "source": [
        "def probs_to_labels(predicted_probs):\n",
        "    return [1 if x > 0.5 else 0 for x in predicted_probs]\n",
        "def count_errors(y, y_pred):\n",
        "  count = 0\n",
        "  for i in range (0,31):\n",
        "    labelBit = y[i]\n",
        "    resultBit = y_pred[i]\n",
        "    if labelBit != resultBit:\n",
        "      count += 1\n",
        "  return count"
      ],
      "execution_count": 0,
      "outputs": []
    },
    {
      "metadata": {
        "id": "tygf5wTWW6G9",
        "colab_type": "code",
        "colab": {}
      },
      "cell_type": "code",
      "source": [
        "# errorStats = {'0': 0}\n",
        "# for i in range(0, y_pred.shape[0]):\n",
        "#   resultArray = probs_to_labels(y_pred[i])\n",
        "#   errorNum = count_errors(test_labels[i], resultArray)\n",
        "#   if errorStats.get(str(errorNum)) == None:\n",
        "#     errorStats[str(errorNum)] = 0\n",
        "#   errorStats[str(errorNum)] += 1\n",
        "# print(errorStats)\n",
        "def binary_accuracy(y, y_pred):\n",
        "    return sum(int(np.array_equal(a, probs_to_labels(b))) for (a,b) in zip(y, y_pred)) / y.shape[0]\n"
      ],
      "execution_count": 0,
      "outputs": []
    },
    {
      "metadata": {
        "id": "p9R4dTnYW6HD",
        "colab_type": "code",
        "colab": {}
      },
      "cell_type": "code",
      "source": [
        "from hyperopt import fmin, tpe, hp, STATUS_OK, Trials\n",
        "from sklearn.metrics import roc_auc_score\n",
        "import sys\n",
        "\n",
        "X = train_data\n",
        "y = train_labels\n",
        "X_val = test_data\n",
        "y_val = test_labels\n",
        "activations = ['relu', 'tanh', 'softmax', 'elu']\n",
        "space = {'choice': hp.choice('num_layers',\n",
        "                    [ {'layers':'three', },\n",
        "                    {'layers':'four',\n",
        "                      'units4': hp.choice('units4', [128, 256, 512, 1024]), \n",
        "                      'activation4': hp.choice('activation4', activations),\n",
        "                      'dropout4': 1},#hp.choice('dropout4', [.75, 1])}\n",
        "                    { 'layers': 'five', \n",
        "                      'units4_5': hp.choice('units4_5', [128, 256, 512, 1024]), \n",
        "                      'activation4_5': hp.choice('activation4_5', activations),\n",
        "                      'dropout4_5': 1,\n",
        "                      'units5': hp.choice('units5', [128, 256, 512, 1024]), \n",
        "                      'activation5': hp.choice('activation5', activations),\n",
        "                      'dropout5': 1\n",
        "                     }\n",
        "                    ]),\n",
        "\n",
        "            'units1': hp.choice('units1', [128, 256, 512, 1024]),\n",
        "            'units2': hp.choice('units2', [128, 256, 512, 1024]),\n",
        "            'units3': hp.choice('units3', [128, 256, 512, 1024]), \n",
        "\n",
        "            'dropout1': 1,#hp.choice('dropout1', [.75, 1]),\n",
        "            'dropout2': 1,#hp.choice('dropout2', [.75, 1]),\n",
        "            'dropout3': 1,#hp.choice('dropout3', [.75, 1]),\n",
        "         \n",
        "            'activation1': hp.choice('activation1', activations),\n",
        "            'activation2': hp.choice('activation2', activations),\n",
        "            'activation3': hp.choice('activation3', activations),\n",
        "\n",
        "            'batch_size' : hp.choice('batch_size', [32, 64, 128]),\n",
        "\n",
        "            'nb_epochs' :  hp.choice('nb_epochs', [5, 7, 10]),\n",
        "            'optimizer': hp.choice('optimizer', ['adadelta','adam','rmsprop']),\n",
        "            #'activation': hp.choice('activation', ['sigmoid', 'tanh']),\n",
        "            'last_activation': hp.choice('last_activation', ['sigmoid', 'hard_sigmoid'])\n",
        "        }"
      ],
      "execution_count": 0,
      "outputs": []
    },
    {
      "metadata": {
        "id": "ZakMbuuC3Z24",
        "colab_type": "code",
        "colab": {}
      },
      "cell_type": "code",
      "source": [
        "scores = []\n",
        "from keras.models import Sequential\n",
        "from keras.layers.core import Dense, Dropout, Activation\n",
        "from keras.optimizers import Adadelta, Adam, rmsprop\n",
        "import json\n"
      ],
      "execution_count": 0,
      "outputs": []
    },
    {
      "metadata": {
        "id": "LJSCiZKQW6HJ",
        "colab_type": "code",
        "colab": {}
      },
      "cell_type": "code",
      "source": [
        "def f_nn(params):   \n",
        "    print ('Params testing: ', params)\n",
        "    model = Sequential()\n",
        "    model.add(Dense(units=int(params['units1']), input_dim = X.shape[1])) \n",
        "    model.add(Activation(params['activation1']))\n",
        "    model.add(Dropout(params['dropout1']))\n",
        "\n",
        "    model.add(Dense(units=int(params['units2']), kernel_initializer = \"glorot_uniform\")) \n",
        "    model.add(Activation(params['activation2']))\n",
        "    model.add(Dropout(params['dropout2']))\n",
        "\n",
        "    model.add(Dense(units=int(params['units3']), kernel_initializer = \"glorot_uniform\")) \n",
        "    model.add(Activation(params['activation3']))\n",
        "    model.add(Dropout(params['dropout3']))    \n",
        "\n",
        "    if params['choice']['layers'] == 'four':\n",
        "        model.add(Dense(units=int(params['choice']['units4']), kernel_initializer = \"glorot_uniform\")) \n",
        "        model.add(Activation(params['choice']['activation4']))\n",
        "        model.add(Dropout(params['choice']['dropout4']))  \n",
        "        \n",
        "    if params['choice']['layers'] == 'five':\n",
        "      model.add(Dense(units=int(params['choice']['units4_5']), kernel_initializer = \"glorot_uniform\")) \n",
        "      model.add(Activation(params['choice']['activation4_5']))\n",
        "      model.add(Dropout(params['choice']['dropout4_5']))  \n",
        "      model.add(Dense(units=int(params['choice']['units5']), kernel_initializer = \"glorot_uniform\")) \n",
        "      model.add(Activation(params['choice']['activation5']))\n",
        "      model.add(Dropout(params['choice']['dropout5']))  \n",
        "        \n",
        "    \n",
        "\n",
        "    model.add(Dense(31))\n",
        "    model.add(Activation(params['last_activation']))\n",
        "    model.compile(loss='binary_crossentropy', optimizer=params['optimizer'])\n",
        "\n",
        "    model.fit(X, y, epochs=params['nb_epochs'], batch_size=int(params['batch_size']), verbose = 0)\n",
        "\n",
        "    pred_auc = model.predict(X_val)\n",
        "#     acc = roc_auc_score(y_val, pred_auc)\n",
        "    acc = binary_accuracy(y_val, pred_auc)\n",
        "    print('ACCURACY:', acc)\n",
        "    params['acuracy'] = acc\n",
        "    testing_params = params\n",
        "    testing_params['accuracy'] = acc\n",
        "    jsonResult = testing_params\n",
        "    file = open('scores.json', 'a')\n",
        "    json.dump(testing_params, file, indent = 4)\n",
        "    file.write(',\\n')\n",
        "    file.close()\n",
        "    sys.stdout.flush() \n",
        "    scores.append((acc, params))\n",
        "    return {'loss': -acc, 'status': STATUS_OK}"
      ],
      "execution_count": 0,
      "outputs": []
    },
    {
      "metadata": {
        "id": "C6XPHQuf-slL",
        "colab_type": "code",
        "colab": {}
      },
      "cell_type": "code",
      "source": [
        "trials = Trials()\n",
        "file = open('scores.json', 'w')\n",
        "file.write('[\\n')\n",
        "file.close()\n",
        "best = fmin(f_nn, space, algo=tpe.suggest, max_evals=350, trials=trials)\n",
        "print('best: ')\n",
        "print(best)\n",
        "file = open('scores.json', 'a')\n",
        "file.write(']\\n')\n",
        "file.close()"
      ],
      "execution_count": 0,
      "outputs": []
    },
    {
      "metadata": {
        "id": "L4HUHhZKW6HS",
        "colab_type": "code",
        "colab": {}
      },
      "cell_type": "code",
      "source": [
        "print(max(scores))"
      ],
      "execution_count": 0,
      "outputs": []
    }
  ]
}